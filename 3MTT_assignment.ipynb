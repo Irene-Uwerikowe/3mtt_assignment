{
 "cells": [
  {
   "cell_type": "markdown",
   "metadata": {},
   "source": [
    "### Write a Python script that takes two numbers as input and performs basic arithmetic operations (addition, subtraction, multiplication, division)."
   ]
  },
  {
   "cell_type": "code",
   "execution_count": 7,
   "metadata": {},
   "outputs": [
    {
     "name": "stdout",
     "output_type": "stream",
     "text": [
      "Addition: 9.0\n",
      "Subtraction: -1.0\n",
      "Multiplication: 20.0\n",
      "Division: 0.8\n"
     ]
    }
   ],
   "source": [
    "# we will use two variables a and b\n",
    "a = float(input ('what is your number'))\n",
    "b = float(input ('what is your number'))\n",
    "\n",
    "print (f'Addition: {a+b}')\n",
    "print (f'Subtraction: {a-b}')\n",
    "print (f'Multiplication: {a*b}')\n",
    "print (f'Division: {a/b}')"
   ]
  },
  {
   "cell_type": "code",
   "execution_count": null,
   "metadata": {},
   "outputs": [],
   "source": []
  }
 ],
 "metadata": {
  "kernelspec": {
   "display_name": "base",
   "language": "python",
   "name": "python3"
  },
  "language_info": {
   "codemirror_mode": {
    "name": "ipython",
    "version": 3
   },
   "file_extension": ".py",
   "mimetype": "text/x-python",
   "name": "python",
   "nbconvert_exporter": "python",
   "pygments_lexer": "ipython3",
   "version": "3.11.7"
  }
 },
 "nbformat": 4,
 "nbformat_minor": 2
}
